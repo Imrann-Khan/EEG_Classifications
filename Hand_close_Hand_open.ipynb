{
 "cells": [
  {
   "cell_type": "markdown",
   "id": "f8cc840c",
   "metadata": {},
   "source": [
    "Hand close and Hand open"
   ]
  },
  {
   "cell_type": "code",
   "execution_count": 1,
   "id": "b3e77ac2",
   "metadata": {},
   "outputs": [
    {
     "name": "stderr",
     "output_type": "stream",
     "text": [
      "C:\\Program Files\\WindowsApps\\PythonSoftwareFoundation.Python.3.12_3.12.2800.0_x64__qbz5n2kfra8p0\\Lib\\contextlib.py:144: RuntimeWarning: Channel names are not unique, found duplicates for: {'armeodummy'}. Applying running numbers for duplicates.\n",
      "  next(self.gen)\n"
     ]
    },
    {
     "name": "stdout",
     "output_type": "stream",
     "text": [
      "NOTE: pick_channels() is a legacy function. New code should use inst.pick(...).\n",
      "Used Annotations descriptions: ['1536', '1537', '1538', '1539', '1540', '1541', '1542', '33536', '33554', '34304', '34305', '34306', '34307', '34308', '34309', '34310', '768', '785', '786']\n"
     ]
    },
    {
     "name": "stderr",
     "output_type": "stream",
     "text": [
      "C:\\Program Files\\WindowsApps\\PythonSoftwareFoundation.Python.3.12_3.12.2800.0_x64__qbz5n2kfra8p0\\Lib\\contextlib.py:144: RuntimeWarning: Channel names are not unique, found duplicates for: {'armeodummy'}. Applying running numbers for duplicates.\n",
      "  next(self.gen)\n"
     ]
    },
    {
     "name": "stdout",
     "output_type": "stream",
     "text": [
      "NOTE: pick_channels() is a legacy function. New code should use inst.pick(...).\n",
      "Used Annotations descriptions: ['1536', '1537', '1538', '1539', '1540', '1541', '1542', '33536', '33554', '34304', '34305', '34306', '34307', '34308', '34309', '34310', '768', '785', '786']\n"
     ]
    },
    {
     "name": "stderr",
     "output_type": "stream",
     "text": [
      "C:\\Program Files\\WindowsApps\\PythonSoftwareFoundation.Python.3.12_3.12.2800.0_x64__qbz5n2kfra8p0\\Lib\\contextlib.py:144: RuntimeWarning: Channel names are not unique, found duplicates for: {'armeodummy'}. Applying running numbers for duplicates.\n",
      "  next(self.gen)\n"
     ]
    },
    {
     "name": "stdout",
     "output_type": "stream",
     "text": [
      "NOTE: pick_channels() is a legacy function. New code should use inst.pick(...).\n",
      "Used Annotations descriptions: ['1536', '1537', '1538', '1539', '1540', '1541', '1542', '33536', '33554', '34304', '34305', '34306', '34307', '34308', '34309', '34310', '768', '785', '786']\n"
     ]
    },
    {
     "name": "stderr",
     "output_type": "stream",
     "text": [
      "C:\\Program Files\\WindowsApps\\PythonSoftwareFoundation.Python.3.12_3.12.2800.0_x64__qbz5n2kfra8p0\\Lib\\contextlib.py:144: RuntimeWarning: Channel names are not unique, found duplicates for: {'armeodummy'}. Applying running numbers for duplicates.\n",
      "  next(self.gen)\n"
     ]
    },
    {
     "name": "stdout",
     "output_type": "stream",
     "text": [
      "NOTE: pick_channels() is a legacy function. New code should use inst.pick(...).\n",
      "Used Annotations descriptions: ['1536', '1537', '1538', '1539', '1540', '1541', '1542', '33536', '33554', '34304', '34305', '34306', '34307', '34308', '34309', '34310', '768', '785', '786']\n"
     ]
    },
    {
     "name": "stderr",
     "output_type": "stream",
     "text": [
      "C:\\Program Files\\WindowsApps\\PythonSoftwareFoundation.Python.3.12_3.12.2800.0_x64__qbz5n2kfra8p0\\Lib\\contextlib.py:144: RuntimeWarning: Channel names are not unique, found duplicates for: {'armeodummy'}. Applying running numbers for duplicates.\n",
      "  next(self.gen)\n"
     ]
    },
    {
     "name": "stdout",
     "output_type": "stream",
     "text": [
      "NOTE: pick_channels() is a legacy function. New code should use inst.pick(...).\n",
      "Used Annotations descriptions: ['1536', '1537', '1538', '1539', '1540', '1541', '1542', '33536', '33554', '34304', '34305', '34306', '34307', '34308', '34309', '34310', '768', '785', '786']\n"
     ]
    },
    {
     "name": "stderr",
     "output_type": "stream",
     "text": [
      "C:\\Program Files\\WindowsApps\\PythonSoftwareFoundation.Python.3.12_3.12.2800.0_x64__qbz5n2kfra8p0\\Lib\\contextlib.py:144: RuntimeWarning: Channel names are not unique, found duplicates for: {'armeodummy'}. Applying running numbers for duplicates.\n",
      "  next(self.gen)\n"
     ]
    },
    {
     "name": "stdout",
     "output_type": "stream",
     "text": [
      "NOTE: pick_channels() is a legacy function. New code should use inst.pick(...).\n",
      "Used Annotations descriptions: ['1536', '1537', '1538', '1539', '1540', '1541', '1542', '33536', '33554', '34304', '34305', '34306', '34307', '34308', '34309', '34310', '768', '785', '786']\n"
     ]
    },
    {
     "name": "stderr",
     "output_type": "stream",
     "text": [
      "C:\\Program Files\\WindowsApps\\PythonSoftwareFoundation.Python.3.12_3.12.2800.0_x64__qbz5n2kfra8p0\\Lib\\contextlib.py:144: RuntimeWarning: Channel names are not unique, found duplicates for: {'armeodummy'}. Applying running numbers for duplicates.\n",
      "  next(self.gen)\n"
     ]
    },
    {
     "name": "stdout",
     "output_type": "stream",
     "text": [
      "NOTE: pick_channels() is a legacy function. New code should use inst.pick(...).\n",
      "Used Annotations descriptions: ['1536', '1537', '1538', '1539', '1540', '1541', '1542', '33536', '33554', '34304', '34305', '34306', '34307', '34308', '34309', '34310', '768', '785', '786']\n"
     ]
    },
    {
     "name": "stderr",
     "output_type": "stream",
     "text": [
      "C:\\Program Files\\WindowsApps\\PythonSoftwareFoundation.Python.3.12_3.12.2800.0_x64__qbz5n2kfra8p0\\Lib\\contextlib.py:144: RuntimeWarning: Channel names are not unique, found duplicates for: {'armeodummy'}. Applying running numbers for duplicates.\n",
      "  next(self.gen)\n"
     ]
    },
    {
     "name": "stdout",
     "output_type": "stream",
     "text": [
      "NOTE: pick_channels() is a legacy function. New code should use inst.pick(...).\n",
      "Used Annotations descriptions: ['1536', '1537', '1538', '1539', '1540', '1541', '1542', '33536', '33554', '34304', '34305', '34306', '34307', '34308', '34309', '34310', '768', '785', '786']\n"
     ]
    },
    {
     "name": "stderr",
     "output_type": "stream",
     "text": [
      "C:\\Program Files\\WindowsApps\\PythonSoftwareFoundation.Python.3.12_3.12.2800.0_x64__qbz5n2kfra8p0\\Lib\\contextlib.py:144: RuntimeWarning: Channel names are not unique, found duplicates for: {'armeodummy'}. Applying running numbers for duplicates.\n",
      "  next(self.gen)\n"
     ]
    },
    {
     "name": "stdout",
     "output_type": "stream",
     "text": [
      "NOTE: pick_channels() is a legacy function. New code should use inst.pick(...).\n",
      "Used Annotations descriptions: ['1536', '1537', '1538', '1539', '1540', '1541', '1542', '33536', '33554', '34304', '34305', '34306', '34307', '34308', '34309', '34310', '768', '785', '786']\n"
     ]
    },
    {
     "name": "stderr",
     "output_type": "stream",
     "text": [
      "C:\\Program Files\\WindowsApps\\PythonSoftwareFoundation.Python.3.12_3.12.2800.0_x64__qbz5n2kfra8p0\\Lib\\contextlib.py:144: RuntimeWarning: Channel names are not unique, found duplicates for: {'armeodummy'}. Applying running numbers for duplicates.\n",
      "  next(self.gen)\n"
     ]
    },
    {
     "name": "stdout",
     "output_type": "stream",
     "text": [
      "NOTE: pick_channels() is a legacy function. New code should use inst.pick(...).\n",
      "Used Annotations descriptions: ['1536', '1537', '1538', '1539', '1540', '1541', '1542', '33536', '33554', '34304', '34305', '34306', '34307', '34308', '34309', '34310', '768', '785', '786']\n",
      "Final data shape: (104, 55, 2561)\n",
      "Mapped labels: [0 1] [52 52]\n"
     ]
    }
   ],
   "source": [
    "import mne\n",
    "import numpy as np\n",
    "import pandas as pd\n",
    "import matplotlib.pyplot as plt\n",
    "from sklearn.preprocessing import MinMaxScaler\n",
    "from sklearn.model_selection import train_test_split\n",
    "from tensorflow.keras.models import Sequential\n",
    "from tensorflow.keras.layers import LSTM, Dropout, Dense\n",
    "from tensorflow.keras.optimizers import Adam\n",
    "\n",
    "# ─── Configuration ─────────────────────────────────────────────────────────\n",
    "base_path   = \"DS\"\n",
    "subjects    = range(1, 2)   # just subject 1 for now\n",
    "runs        = range(1, 11)\n",
    "eeg_labels  = [\n",
    "    \"F3\",\"F1\",\"Fz\",\"F2\",\"F4\",\"FFC5h\",\"FFC3h\",\"FFC1h\",\"FFC2h\",\"FFC4h\",\"FFC6h\",\n",
    "    \"FC5\",\"FC3\",\"FC1\",\"FCz\",\"FC2\",\"FC4\",\"FC6\",\"FTT7h\",\"FCC5h\",\"FCC3h\",\"FCC6h\",\n",
    "    \"FTT8h\",\"C5\",\"C3\",\"C1\",\"Cz\",\"C2\",\"C4\",\"C6\",\"TTP7h\",\n",
    "    \"CCP5h\",\"CCP3h\",\"CCP1h\",\"CCP2h\",\"CCP4h\",\"CCP6h\",\"TTP8h\",\"CP5\",\"CP3\",\"CP1\",\n",
    "    \"CPz\",\"CPP5h\",\"CPP3h\",\"CPP1h\",\"CPP2h\",\"CPP4h\",\"CPP6h\",\"P3\",\"P1\",\"Pz\",\"P2\",\"P4\",\"PPO1h\",\n",
    "    \"PPO2h\"\n",
    "]\n",
    "# only interested in classes 5 (hand close) and 6 (hand open)\n",
    "event_codes = [5, 6]\n",
    "# remap 5→0, 6→1\n",
    "label_map   = {5: 0, 6: 1}\n",
    "\n",
    "# ─── 1) Load & epoch all runs ───────────────────────────────────────────────\n",
    "X_list, y_list = [], []\n",
    "for subj in subjects:\n",
    "    for run in runs:\n",
    "        fp = f\"{base_path}/S{subj}_MI/motorimagination_subject{subj}_run{run}.gdf\"\n",
    "        raw = mne.io.read_raw_gdf(fp, preload=True, verbose=False)\n",
    "\n",
    "        # pick only your EEG channels\n",
    "        to_keep = [ch for ch in eeg_labels if ch in raw.ch_names]\n",
    "        raw.pick_channels(to_keep)\n",
    "        raw.filter(0.5, 50.0, verbose=False)\n",
    "\n",
    "        # extract events & make epochs for codes 5 & 6\n",
    "        events, _ = mne.events_from_annotations(raw)\n",
    "        epochs = mne.Epochs(\n",
    "            raw, events, event_codes,\n",
    "            tmin=-2.0, tmax=3.0,\n",
    "            baseline=(None, 0.0),\n",
    "            preload=True, verbose=False\n",
    "        )\n",
    "\n",
    "        data   = epochs.get_data()           # (n_epochs, n_ch, n_times)\n",
    "        labels = epochs.events[:, 2].astype(int)  # original codes in {5,6}\n",
    "\n",
    "        # drop any epoch containing NaNs\n",
    "        mask = ~np.isnan(data).any(axis=(1, 2))\n",
    "        valid_data   = data[mask]\n",
    "        valid_labels = labels[mask]\n",
    "\n",
    "        # remap to 0/1\n",
    "        valid_labels = np.array([label_map[c] for c in valid_labels], dtype=int)\n",
    "\n",
    "        X_list.append(valid_data)\n",
    "        y_list.append(valid_labels)\n",
    "\n",
    "# concatenate\n",
    "X = np.concatenate(X_list, axis=0)  # (n_epochs, n_channels, n_times)\n",
    "y = np.concatenate(y_list, axis=0)  # (n_epochs,)\n",
    "\n",
    "print(\"Final data shape:\", X.shape)\n",
    "print(\"Mapped labels:\", np.unique(y), np.bincount(y))\n"
   ]
  },
  {
   "cell_type": "code",
   "execution_count": 2,
   "id": "5d83c26b",
   "metadata": {},
   "outputs": [
    {
     "name": "stdout",
     "output_type": "stream",
     "text": [
      "Shape of all events (1-2):\n",
      "Event 0: (52, 55, 2561)\n",
      "Event 1: (52, 55, 2561)\n"
     ]
    }
   ],
   "source": [
    "print(\"Shape of all events (1-2):\")\n",
    "# Check the shape of each event\n",
    "for i in range(0, 2):\n",
    "    print(f\"Event {i}: {X[y == i].shape}\")"
   ]
  },
  {
   "cell_type": "code",
   "execution_count": 3,
   "id": "1ca19909",
   "metadata": {},
   "outputs": [
    {
     "name": "stdout",
     "output_type": "stream",
     "text": [
      "Event 0: 0\n",
      "Event 1: 0\n",
      "Any all-NaN channels left?  False\n",
      "Any all-zero channels left?  False\n",
      "Any NaNs at all?  False\n",
      "Any zeros at all?  False\n"
     ]
    }
   ],
   "source": [
    "for i in range(0, 2):\n",
    "    print(f\"Event {i}: {np.isnan(X[y == i]).sum()}\")\n",
    "\n",
    "print(\"Any all-NaN channels left? \",\n",
    "      np.any(np.all(np.isnan(X), axis=2)))\n",
    "print(\"Any all-zero channels left? \",\n",
    "      np.any(np.all(X == 0,      axis=2)))\n",
    "print(\"Any NaNs at all? \", np.isnan(X).any())\n",
    "print(\"Any zeros at all? \", np.any(X == 0))"
   ]
  },
  {
   "cell_type": "code",
   "execution_count": 6,
   "id": "d4f21df7",
   "metadata": {},
   "outputs": [
    {
     "name": "stdout",
     "output_type": "stream",
     "text": [
      "Windowed X shape: (133016, 5, 55)\n",
      "Windowed y shape: (133016,)\n",
      "Before casting:\n",
      "  X_train dtype: float32 X_test dtype: float32\n",
      "  y_train dtype: int32 y_test dtype: int32\n",
      "After casting:\n",
      "  X_train dtype: float32 X_test dtype: float32\n",
      "  y_train dtype: int32 y_test dtype: int32\n",
      "Epoch 1/100\n"
     ]
    },
    {
     "name": "stderr",
     "output_type": "stream",
     "text": [
      "C:\\Users\\ik111\\AppData\\Local\\Packages\\PythonSoftwareFoundation.Python.3.12_qbz5n2kfra8p0\\LocalCache\\local-packages\\Python312\\site-packages\\keras\\src\\layers\\rnn\\rnn.py:200: UserWarning: Do not pass an `input_shape`/`input_dim` argument to a layer. When using Sequential models, prefer using an `Input(shape)` object as the first layer in the model instead.\n",
      "  super().__init__(**kwargs)\n"
     ]
    },
    {
     "name": "stdout",
     "output_type": "stream",
     "text": [
      "2495/2495 - 13s - 5ms/step - accuracy: 0.5336 - loss: 0.7011 - val_accuracy: 0.5626 - val_loss: 0.6792\n",
      "Epoch 2/100\n",
      "2495/2495 - 11s - 4ms/step - accuracy: 0.5748 - loss: 0.6741 - val_accuracy: 0.5906 - val_loss: 0.6628\n",
      "Epoch 3/100\n",
      "2495/2495 - 11s - 4ms/step - accuracy: 0.6010 - loss: 0.6583 - val_accuracy: 0.6089 - val_loss: 0.6507\n",
      "Epoch 4/100\n",
      "2495/2495 - 11s - 4ms/step - accuracy: 0.6247 - loss: 0.6384 - val_accuracy: 0.6326 - val_loss: 0.6337\n",
      "Epoch 5/100\n",
      "2495/2495 - 10s - 4ms/step - accuracy: 0.6416 - loss: 0.6228 - val_accuracy: 0.6444 - val_loss: 0.6211\n",
      "Epoch 6/100\n",
      "2495/2495 - 10s - 4ms/step - accuracy: 0.6548 - loss: 0.6087 - val_accuracy: 0.6613 - val_loss: 0.6017\n",
      "Epoch 7/100\n",
      "2495/2495 - 11s - 5ms/step - accuracy: 0.6691 - loss: 0.5937 - val_accuracy: 0.6574 - val_loss: 0.6057\n",
      "Epoch 8/100\n",
      "2495/2495 - 10s - 4ms/step - accuracy: 0.6778 - loss: 0.5816 - val_accuracy: 0.6700 - val_loss: 0.5906\n",
      "Epoch 9/100\n",
      "2495/2495 - 10s - 4ms/step - accuracy: 0.6907 - loss: 0.5673 - val_accuracy: 0.6883 - val_loss: 0.5725\n",
      "Epoch 10/100\n",
      "2495/2495 - 10s - 4ms/step - accuracy: 0.7012 - loss: 0.5547 - val_accuracy: 0.6955 - val_loss: 0.5663\n",
      "Epoch 11/100\n",
      "2495/2495 - 11s - 4ms/step - accuracy: 0.7136 - loss: 0.5409 - val_accuracy: 0.7055 - val_loss: 0.5547\n",
      "Epoch 12/100\n",
      "2495/2495 - 10s - 4ms/step - accuracy: 0.7195 - loss: 0.5305 - val_accuracy: 0.7018 - val_loss: 0.5520\n",
      "Epoch 13/100\n",
      "2495/2495 - 9s - 4ms/step - accuracy: 0.7292 - loss: 0.5192 - val_accuracy: 0.7163 - val_loss: 0.5388\n",
      "Epoch 14/100\n",
      "2495/2495 - 9s - 4ms/step - accuracy: 0.7329 - loss: 0.5111 - val_accuracy: 0.7107 - val_loss: 0.5382\n",
      "Epoch 15/100\n",
      "2495/2495 - 9s - 4ms/step - accuracy: 0.7388 - loss: 0.5029 - val_accuracy: 0.7205 - val_loss: 0.5361\n",
      "Epoch 16/100\n",
      "2495/2495 - 9s - 4ms/step - accuracy: 0.7464 - loss: 0.4928 - val_accuracy: 0.7283 - val_loss: 0.5205\n",
      "Epoch 17/100\n",
      "2495/2495 - 9s - 4ms/step - accuracy: 0.7521 - loss: 0.4837 - val_accuracy: 0.7407 - val_loss: 0.5124\n",
      "Epoch 18/100\n",
      "2495/2495 - 9s - 4ms/step - accuracy: 0.7566 - loss: 0.4786 - val_accuracy: 0.7366 - val_loss: 0.5144\n",
      "Epoch 19/100\n",
      "2495/2495 - 9s - 4ms/step - accuracy: 0.7616 - loss: 0.4679 - val_accuracy: 0.7446 - val_loss: 0.4983\n",
      "Epoch 20/100\n",
      "2495/2495 - 9s - 4ms/step - accuracy: 0.7658 - loss: 0.4636 - val_accuracy: 0.7439 - val_loss: 0.5068\n",
      "Epoch 21/100\n",
      "2495/2495 - 9s - 4ms/step - accuracy: 0.7698 - loss: 0.4547 - val_accuracy: 0.7525 - val_loss: 0.4915\n",
      "Epoch 22/100\n",
      "2495/2495 - 9s - 4ms/step - accuracy: 0.7753 - loss: 0.4487 - val_accuracy: 0.7454 - val_loss: 0.4986\n",
      "Epoch 23/100\n",
      "2495/2495 - 9s - 4ms/step - accuracy: 0.7805 - loss: 0.4421 - val_accuracy: 0.7541 - val_loss: 0.4955\n",
      "Epoch 24/100\n",
      "2495/2495 - 9s - 4ms/step - accuracy: 0.7810 - loss: 0.4378 - val_accuracy: 0.7589 - val_loss: 0.4866\n",
      "Epoch 25/100\n",
      "2495/2495 - 10s - 4ms/step - accuracy: 0.7854 - loss: 0.4311 - val_accuracy: 0.7565 - val_loss: 0.4928\n",
      "Epoch 26/100\n",
      "2495/2495 - 10s - 4ms/step - accuracy: 0.7900 - loss: 0.4239 - val_accuracy: 0.7675 - val_loss: 0.4741\n",
      "Epoch 27/100\n",
      "2495/2495 - 11s - 4ms/step - accuracy: 0.7957 - loss: 0.4175 - val_accuracy: 0.7646 - val_loss: 0.4788\n",
      "Epoch 28/100\n",
      "2495/2495 - 11s - 5ms/step - accuracy: 0.7953 - loss: 0.4151 - val_accuracy: 0.7632 - val_loss: 0.4892\n",
      "Epoch 29/100\n",
      "2495/2495 - 11s - 4ms/step - accuracy: 0.7990 - loss: 0.4114 - val_accuracy: 0.7694 - val_loss: 0.4688\n",
      "Epoch 30/100\n",
      "2495/2495 - 11s - 4ms/step - accuracy: 0.8029 - loss: 0.4066 - val_accuracy: 0.7726 - val_loss: 0.4632\n",
      "Epoch 31/100\n",
      "2495/2495 - 11s - 4ms/step - accuracy: 0.8033 - loss: 0.4023 - val_accuracy: 0.7665 - val_loss: 0.4770\n",
      "Epoch 32/100\n",
      "2495/2495 - 11s - 4ms/step - accuracy: 0.8051 - loss: 0.4011 - val_accuracy: 0.7724 - val_loss: 0.4709\n",
      "Epoch 33/100\n",
      "2495/2495 - 11s - 4ms/step - accuracy: 0.8064 - loss: 0.3961 - val_accuracy: 0.7706 - val_loss: 0.4705\n",
      "Epoch 34/100\n",
      "2495/2495 - 11s - 4ms/step - accuracy: 0.8096 - loss: 0.3927 - val_accuracy: 0.7691 - val_loss: 0.4735\n",
      "Epoch 35/100\n",
      "2495/2495 - 11s - 4ms/step - accuracy: 0.8110 - loss: 0.3896 - val_accuracy: 0.7809 - val_loss: 0.4567\n",
      "Epoch 36/100\n",
      "2495/2495 - 11s - 4ms/step - accuracy: 0.8140 - loss: 0.3836 - val_accuracy: 0.7856 - val_loss: 0.4545\n",
      "Epoch 37/100\n",
      "2495/2495 - 11s - 4ms/step - accuracy: 0.8161 - loss: 0.3806 - val_accuracy: 0.7801 - val_loss: 0.4603\n",
      "Epoch 38/100\n",
      "2495/2495 - 10s - 4ms/step - accuracy: 0.8197 - loss: 0.3758 - val_accuracy: 0.7803 - val_loss: 0.4561\n",
      "Epoch 39/100\n",
      "2495/2495 - 10s - 4ms/step - accuracy: 0.8204 - loss: 0.3747 - val_accuracy: 0.7845 - val_loss: 0.4536\n",
      "Epoch 40/100\n",
      "2495/2495 - 11s - 4ms/step - accuracy: 0.8204 - loss: 0.3756 - val_accuracy: 0.7794 - val_loss: 0.4705\n",
      "Epoch 41/100\n",
      "2495/2495 - 11s - 4ms/step - accuracy: 0.8233 - loss: 0.3705 - val_accuracy: 0.7822 - val_loss: 0.4623\n",
      "Epoch 42/100\n",
      "2495/2495 - 11s - 4ms/step - accuracy: 0.8245 - loss: 0.3671 - val_accuracy: 0.7884 - val_loss: 0.4563\n",
      "Epoch 43/100\n",
      "2495/2495 - 11s - 4ms/step - accuracy: 0.8255 - loss: 0.3641 - val_accuracy: 0.7907 - val_loss: 0.4474\n",
      "Epoch 44/100\n",
      "2495/2495 - 11s - 4ms/step - accuracy: 0.8259 - loss: 0.3640 - val_accuracy: 0.7941 - val_loss: 0.4492\n",
      "Epoch 45/100\n",
      "2495/2495 - 11s - 4ms/step - accuracy: 0.8275 - loss: 0.3589 - val_accuracy: 0.7863 - val_loss: 0.4541\n",
      "Epoch 46/100\n",
      "2495/2495 - 10s - 4ms/step - accuracy: 0.8302 - loss: 0.3592 - val_accuracy: 0.7893 - val_loss: 0.4515\n",
      "Epoch 47/100\n",
      "2495/2495 - 11s - 4ms/step - accuracy: 0.8291 - loss: 0.3577 - val_accuracy: 0.7942 - val_loss: 0.4429\n",
      "Epoch 48/100\n",
      "2495/2495 - 11s - 4ms/step - accuracy: 0.8302 - loss: 0.3560 - val_accuracy: 0.7905 - val_loss: 0.4466\n",
      "Epoch 49/100\n",
      "2495/2495 - 10s - 4ms/step - accuracy: 0.8271 - loss: 0.3604 - val_accuracy: 0.7945 - val_loss: 0.4390\n",
      "Epoch 50/100\n",
      "2495/2495 - 11s - 4ms/step - accuracy: 0.8313 - loss: 0.3527 - val_accuracy: 0.7936 - val_loss: 0.4512\n",
      "Epoch 51/100\n",
      "2495/2495 - 10s - 4ms/step - accuracy: 0.8337 - loss: 0.3497 - val_accuracy: 0.7992 - val_loss: 0.4394\n",
      "Epoch 52/100\n",
      "2495/2495 - 11s - 4ms/step - accuracy: 0.8370 - loss: 0.3457 - val_accuracy: 0.8005 - val_loss: 0.4364\n",
      "Epoch 53/100\n",
      "2495/2495 - 10s - 4ms/step - accuracy: 0.8370 - loss: 0.3442 - val_accuracy: 0.7932 - val_loss: 0.4534\n",
      "Epoch 54/100\n",
      "2495/2495 - 10s - 4ms/step - accuracy: 0.8365 - loss: 0.3447 - val_accuracy: 0.7976 - val_loss: 0.4374\n",
      "Epoch 55/100\n",
      "2495/2495 - 10s - 4ms/step - accuracy: 0.8375 - loss: 0.3441 - val_accuracy: 0.7942 - val_loss: 0.4485\n",
      "Epoch 56/100\n",
      "2495/2495 - 11s - 4ms/step - accuracy: 0.8403 - loss: 0.3407 - val_accuracy: 0.7959 - val_loss: 0.4516\n",
      "Epoch 57/100\n",
      "2495/2495 - 11s - 4ms/step - accuracy: 0.8400 - loss: 0.3381 - val_accuracy: 0.7930 - val_loss: 0.4472\n",
      "Epoch 58/100\n",
      "2495/2495 - 11s - 4ms/step - accuracy: 0.8402 - loss: 0.3409 - val_accuracy: 0.8045 - val_loss: 0.4312\n",
      "Epoch 59/100\n",
      "2495/2495 - 11s - 4ms/step - accuracy: 0.8392 - loss: 0.3413 - val_accuracy: 0.8003 - val_loss: 0.4347\n",
      "Epoch 60/100\n",
      "2495/2495 - 11s - 4ms/step - accuracy: 0.8356 - loss: 0.3464 - val_accuracy: 0.8062 - val_loss: 0.4263\n",
      "Epoch 61/100\n",
      "2495/2495 - 11s - 4ms/step - accuracy: 0.8445 - loss: 0.3332 - val_accuracy: 0.8021 - val_loss: 0.4372\n",
      "Epoch 62/100\n",
      "2495/2495 - 12s - 5ms/step - accuracy: 0.8401 - loss: 0.3408 - val_accuracy: 0.8085 - val_loss: 0.4256\n",
      "Epoch 63/100\n",
      "2495/2495 - 11s - 4ms/step - accuracy: 0.8407 - loss: 0.3374 - val_accuracy: 0.7960 - val_loss: 0.4587\n",
      "Epoch 64/100\n",
      "2495/2495 - 11s - 5ms/step - accuracy: 0.8413 - loss: 0.3341 - val_accuracy: 0.8039 - val_loss: 0.4363\n",
      "Epoch 65/100\n",
      "2495/2495 - 11s - 4ms/step - accuracy: 0.8429 - loss: 0.3303 - val_accuracy: 0.8056 - val_loss: 0.4352\n",
      "Epoch 66/100\n",
      "2495/2495 - 11s - 4ms/step - accuracy: 0.8448 - loss: 0.3295 - val_accuracy: 0.8057 - val_loss: 0.4361\n",
      "Epoch 67/100\n",
      "2495/2495 - 11s - 4ms/step - accuracy: 0.8452 - loss: 0.3290 - val_accuracy: 0.7935 - val_loss: 0.4503\n",
      "Epoch 68/100\n",
      "2495/2495 - 9s - 4ms/step - accuracy: 0.8475 - loss: 0.3272 - val_accuracy: 0.7972 - val_loss: 0.4491\n",
      "Epoch 69/100\n",
      "2495/2495 - 10s - 4ms/step - accuracy: 0.8486 - loss: 0.3250 - val_accuracy: 0.8046 - val_loss: 0.4368\n",
      "Epoch 70/100\n",
      "2495/2495 - 10s - 4ms/step - accuracy: 0.8472 - loss: 0.3256 - val_accuracy: 0.8029 - val_loss: 0.4323\n",
      "Epoch 71/100\n",
      "2495/2495 - 10s - 4ms/step - accuracy: 0.8472 - loss: 0.3253 - val_accuracy: 0.7986 - val_loss: 0.4468\n",
      "Epoch 72/100\n",
      "2495/2495 - 10s - 4ms/step - accuracy: 0.8491 - loss: 0.3235 - val_accuracy: 0.7995 - val_loss: 0.4474\n",
      "Epoch 73/100\n",
      "2495/2495 - 9s - 4ms/step - accuracy: 0.8463 - loss: 0.3261 - val_accuracy: 0.8071 - val_loss: 0.4301\n",
      "Epoch 74/100\n",
      "2495/2495 - 10s - 4ms/step - accuracy: 0.8498 - loss: 0.3229 - val_accuracy: 0.8116 - val_loss: 0.4301\n",
      "Epoch 75/100\n",
      "2495/2495 - 10s - 4ms/step - accuracy: 0.8497 - loss: 0.3215 - val_accuracy: 0.8048 - val_loss: 0.4351\n",
      "Epoch 76/100\n",
      "2495/2495 - 11s - 4ms/step - accuracy: 0.8489 - loss: 0.3214 - val_accuracy: 0.8091 - val_loss: 0.4337\n",
      "Epoch 77/100\n",
      "2495/2495 - 10s - 4ms/step - accuracy: 0.8500 - loss: 0.3204 - val_accuracy: 0.8117 - val_loss: 0.4266\n",
      "Epoch 78/100\n",
      "2495/2495 - 10s - 4ms/step - accuracy: 0.8505 - loss: 0.3201 - val_accuracy: 0.8128 - val_loss: 0.4201\n",
      "Epoch 79/100\n",
      "2495/2495 - 10s - 4ms/step - accuracy: 0.8526 - loss: 0.3185 - val_accuracy: 0.8042 - val_loss: 0.4425\n",
      "Epoch 80/100\n",
      "2495/2495 - 10s - 4ms/step - accuracy: 0.8489 - loss: 0.3253 - val_accuracy: 0.8071 - val_loss: 0.4323\n",
      "Epoch 81/100\n",
      "2495/2495 - 10s - 4ms/step - accuracy: 0.8531 - loss: 0.3196 - val_accuracy: 0.8005 - val_loss: 0.4436\n",
      "Epoch 82/100\n",
      "2495/2495 - 11s - 4ms/step - accuracy: 0.8502 - loss: 0.3201 - val_accuracy: 0.7993 - val_loss: 0.4528\n",
      "Epoch 83/100\n",
      "2495/2495 - 11s - 4ms/step - accuracy: 0.8495 - loss: 0.3246 - val_accuracy: 0.7985 - val_loss: 0.4387\n",
      "Epoch 84/100\n",
      "2495/2495 - 11s - 4ms/step - accuracy: 0.8497 - loss: 0.3227 - val_accuracy: 0.8127 - val_loss: 0.4232\n",
      "Epoch 85/100\n",
      "2495/2495 - 10s - 4ms/step - accuracy: 0.8558 - loss: 0.3120 - val_accuracy: 0.8155 - val_loss: 0.4286\n",
      "Epoch 86/100\n",
      "2495/2495 - 10s - 4ms/step - accuracy: 0.8548 - loss: 0.3132 - val_accuracy: 0.8038 - val_loss: 0.4405\n",
      "Epoch 87/100\n",
      "2495/2495 - 10s - 4ms/step - accuracy: 0.8531 - loss: 0.3171 - val_accuracy: 0.8100 - val_loss: 0.4304\n",
      "Epoch 88/100\n",
      "2495/2495 - 10s - 4ms/step - accuracy: 0.8581 - loss: 0.3089 - val_accuracy: 0.8023 - val_loss: 0.4511\n",
      "Epoch 89/100\n",
      "2495/2495 - 10s - 4ms/step - accuracy: 0.8565 - loss: 0.3104 - val_accuracy: 0.8102 - val_loss: 0.4395\n",
      "Epoch 90/100\n",
      "2495/2495 - 10s - 4ms/step - accuracy: 0.8511 - loss: 0.3230 - val_accuracy: 0.8141 - val_loss: 0.4277\n",
      "Epoch 91/100\n",
      "2495/2495 - 10s - 4ms/step - accuracy: 0.8533 - loss: 0.3164 - val_accuracy: 0.8062 - val_loss: 0.4372\n",
      "Epoch 92/100\n",
      "2495/2495 - 11s - 4ms/step - accuracy: 0.8547 - loss: 0.3139 - val_accuracy: 0.8086 - val_loss: 0.4296\n",
      "Epoch 93/100\n",
      "2495/2495 - 11s - 4ms/step - accuracy: 0.8577 - loss: 0.3088 - val_accuracy: 0.8091 - val_loss: 0.4287\n",
      "Epoch 94/100\n",
      "2495/2495 - 10s - 4ms/step - accuracy: 0.8516 - loss: 0.3190 - val_accuracy: 0.8198 - val_loss: 0.4204\n",
      "Epoch 95/100\n",
      "2495/2495 - 10s - 4ms/step - accuracy: 0.8605 - loss: 0.3040 - val_accuracy: 0.8118 - val_loss: 0.4297\n",
      "Epoch 96/100\n",
      "2495/2495 - 10s - 4ms/step - accuracy: 0.8575 - loss: 0.3080 - val_accuracy: 0.8075 - val_loss: 0.4339\n",
      "Epoch 97/100\n",
      "2495/2495 - 10s - 4ms/step - accuracy: 0.8527 - loss: 0.3172 - val_accuracy: 0.8073 - val_loss: 0.4382\n",
      "Epoch 98/100\n",
      "2495/2495 - 10s - 4ms/step - accuracy: 0.8577 - loss: 0.3084 - val_accuracy: 0.8004 - val_loss: 0.4429\n",
      "Epoch 99/100\n",
      "2495/2495 - 10s - 4ms/step - accuracy: 0.8592 - loss: 0.3070 - val_accuracy: 0.8132 - val_loss: 0.4282\n",
      "Epoch 100/100\n",
      "2495/2495 - 10s - 4ms/step - accuracy: 0.8572 - loss: 0.3114 - val_accuracy: 0.8101 - val_loss: 0.4362\n",
      "\n",
      "Test loss: 0.4362 | Test accuracy: 81.01%\n"
     ]
    },
    {
     "data": {
      "image/png": "[encoded data removed]",
      "text/plain": [
       "<Figure size 1200x400 with 2 Axes>"
      ]
     },
     "metadata": {},
     "output_type": "display_data"
    }
   ],
   "source": [
    "import numpy as np\n",
    "from sklearn.model_selection import train_test_split\n",
    "from tensorflow.keras.models import Sequential\n",
    "from tensorflow.keras.layers import LSTM, Dropout, Dense\n",
    "from tensorflow.keras.optimizers import Adam\n",
    "import matplotlib.pyplot as plt\n",
    "\n",
    "# 1) Prepare sequence data for LSTM\n",
    "# LSTM expects (samples, timesteps, features)\n",
    "# we have (epochs, channels, times) → swap to (epochs, times, channels)\n",
    "X_seq = np.transpose(X, (0, 2, 1)).astype('float32')\n",
    "# Adjust labels to be in the range [0, n_classes-1] and ensure a 1D array\n",
    "y_seq = (y.astype('int32').squeeze())  # ensure integer dtype, 1D array, and adjust range\n",
    "\n",
    "# ─── Before your train/test split ────────────────────────────────────────────\n",
    "\n",
    "def sliding_windows(X, y, window_size, step=None):\n",
    "    if step is None:\n",
    "        step = window_size // 2\n",
    "    Xw, yw = [], []\n",
    "    n_epochs, n_times, n_ch = X.shape\n",
    "    for i in range(n_epochs):\n",
    "        for start in range(0, n_times - window_size + 1, step):\n",
    "            Xw.append(X[i, start:start+window_size, :])\n",
    "            yw.append(y[i])\n",
    "    return np.array(Xw, dtype='float32'), np.array(yw, dtype='int32')\n",
    "\n",
    "# ─── Example usage ───────────────────────────────────────────────────────────\n",
    "window_size = 5   #->window size\n",
    "step        = 2  #->  overlap\n",
    "\n",
    "X_windows, y_windows = sliding_windows(X_seq, y_seq, window_size, step)\n",
    "\n",
    "print(\"Windowed X shape:\", X_windows.shape)  # (n_windows, 10, n_channels)\n",
    "print(\"Windowed y shape:\", y_windows.shape)  # (n_windows,)\n",
    "\n",
    "\n",
    "# Now split *these* windows into train/val/test instead of the full‐epoch data\n",
    "X_tr, X_temp, y_tr, y_temp = train_test_split(\n",
    "    X_windows, y_windows,\n",
    "    test_size=0.4,\n",
    "    random_state=42,\n",
    "    stratify=y_windows\n",
    ")\n",
    "X_val, X_te, y_val, y_te = train_test_split(\n",
    "    X_temp, y_temp,\n",
    "    test_size=0.5,\n",
    "    random_state=42,\n",
    "    stratify=y_temp\n",
    ")\n",
    "\n",
    "# 1) Debug print\n",
    "print(\"Before casting:\")\n",
    "print(\"  X_train dtype:\", X_tr.dtype, \"X_test dtype:\",  X_te.dtype)\n",
    "print(\"  y_train dtype:\", y_tr.dtype, \"y_test dtype:\",  y_te.dtype)\n",
    "\n",
    "# 2) Force numeric types\n",
    "X_train = X_tr.astype('float32')\n",
    "X_test  = X_te.astype('float32')\n",
    "y_train = y_tr.astype('int32')\n",
    "y_test  = y_te.astype('int32')\n",
    "\n",
    "print(\"After casting:\")\n",
    "print(\"  X_train dtype:\", X_train.dtype, \"X_test dtype:\",  X_test.dtype)\n",
    "print(\"  y_train dtype:\", y_train.dtype, \"y_test dtype:\",  y_test.dtype)\n",
    "\n",
    "# 3) Build & compile\n",
    "model = Sequential([\n",
    "    LSTM(50, return_sequences=True,\n",
    "         input_shape=(X_train.shape[1], X_train.shape[2])),\n",
    "    Dropout(0.2),\n",
    "    LSTM(50),\n",
    "    Dropout(0.2),\n",
    "    Dense(7, activation='softmax'),\n",
    "])\n",
    "model.compile(\n",
    "    optimizer=Adam(1e-3),\n",
    "    loss='sparse_categorical_crossentropy',\n",
    "    metrics=['accuracy']\n",
    ")\n",
    "\n",
    "# 4) Train\n",
    "history = model.fit(\n",
    "    X_train, y_train,\n",
    "    validation_data=(X_test, y_test),\n",
    "    epochs=100, batch_size=32, verbose=2\n",
    ")\n",
    "\n",
    "\n",
    "# 5) Evaluate on held-out test set\n",
    "test_loss, test_acc = model.evaluate(X_te, y_te, batch_size=32, verbose=0)\n",
    "print(f\"\\nTest loss: {test_loss:.4f} | Test accuracy: {test_acc:.2%}\")\n",
    "\n",
    "# 6) Plot learning curves\n",
    "plt.figure(figsize=(12,4))\n",
    "\n",
    "plt.subplot(1,2,1)\n",
    "plt.plot(history.history['loss'],   label='Train Loss')\n",
    "plt.plot(history.history['val_loss'], label='Val Loss')\n",
    "plt.title('Loss')\n",
    "plt.xlabel('Epoch')\n",
    "plt.legend()\n",
    "\n",
    "plt.subplot(1,2,2)\n",
    "plt.plot(history.history['accuracy'],   label='Train Acc')\n",
    "plt.plot(history.history['val_accuracy'], label='Val Acc')\n",
    "plt.title('Accuracy')\n",
    "plt.xlabel('Epoch')\n",
    "plt.legend()\n",
    "\n",
    "plt.tight_layout()\n",
    "plt.show()\n"
   ]
  }
 ],
 "metadata": {
  "kernelspec": {
   "display_name": "Python 3",
   "language": "python",
   "name": "python3"
  },
  "language_info": {
   "codemirror_mode": {
    "name": "ipython",
    "version": 3
   },
   "file_extension": ".py",
   "mimetype": "text/x-python",
   "name": "python",
   "nbconvert_exporter": "python",
   "pygments_lexer": "ipython3",
   "version": "3.12.10"
  }
 },
 "nbformat": 4,
 "nbformat_minor": 5
}
