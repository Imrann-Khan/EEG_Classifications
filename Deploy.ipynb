{
 "cells": [
  {
   "cell_type": "code",
   "execution_count": null,
   "id": "856963be",
   "metadata": {},
   "outputs": [
    {
     "name": "stderr",
     "output_type": "stream",
     "text": [
      "WARNING:absl:Compiled the loaded model, but the compiled metrics have yet to be built. `model.compile_metrics` will be empty until you train or evaluate the model.\n"
     ]
    },
    {
     "name": "stdout",
     "output_type": "stream",
     "text": [
      "File: event_code_0_trial.csv, Predicted event code: 1\n",
      "File: event_code_1_trial.csv, Predicted event code: 2\n",
      "File: event_code_2_trial.csv, Predicted event code: 5\n",
      "File: event_code_3_trial.csv, Predicted event code: 6\n"
     ]
    }
   ],
   "source": [
    "import numpy as np\n",
    "import pandas as pd\n",
    "from collections import Counter\n",
    "from tensorflow.keras.models import load_model\n",
    "import os\n",
    "\n",
    "# Load your trained model\n",
    "model = load_model(\"my_gru_model.h5\")\n",
    "\n",
    "N_CH = 55\n",
    "WINDOW_SIZE = 5\n",
    "STEP = 2\n",
    "\n",
    "label_to_code = {0:1, 1:2, 2:5, 3:6}\n",
    "\n",
    "def make_windows(epoch, window=WINDOW_SIZE, step=STEP):\n",
    "    n_ch, n_t = epoch.shape\n",
    "    data = epoch.T  # shape (time, channels)\n",
    "    Xw = []\n",
    "    for start in range(0, n_t - window + 1, step):\n",
    "        Xw.append(data[start:start+window, :])\n",
    "    return np.stack(Xw, axis=0).astype('float32')\n",
    "\n",
    "def predict_event(epoch):\n",
    "    ep = epoch.astype('float32').reshape(1, N_CH, -1)  # (1, channels, times)\n",
    "    Xw = make_windows(ep[0])                            # (n_windows, window, channels)\n",
    "    probs = model.predict(Xw, verbose=0)                # (n_windows, 4)\n",
    "    preds = probs.argmax(axis=1)                         # predictions per window\n",
    "    top = Counter(preds).most_common(1)[0][0]           # majority vote\n",
    "    return label_to_code[top]\n",
    "\n",
    "saved_trials_dir = \"saved_trials\"\n",
    "\n",
    "for filename in os.listdir(saved_trials_dir):\n",
    "    if filename.endswith(\".csv\"):\n",
    "        filepath = os.path.join(saved_trials_dir, filename)\n",
    "        df = pd.read_csv(filepath)\n",
    "        if df.shape[1] != N_CH:\n",
    "            raise ValueError(f\"File {filename} has {df.shape[1]} channels, expected {N_CH}\")\n",
    "        trial_data = df.values.T.astype(np.float32)  \n",
    "        pred_event = predict_event(trial_data)\n",
    "        print(f\"File: {filename}, Predicted event code: {pred_event}\")\n"
   ]
  }
 ],
 "metadata": {
  "kernelspec": {
   "display_name": "Python 3",
   "language": "python",
   "name": "python3"
  },
  "language_info": {
   "codemirror_mode": {
    "name": "ipython",
    "version": 3
   },
   "file_extension": ".py",
   "mimetype": "text/x-python",
   "name": "python",
   "nbconvert_exporter": "python",
   "pygments_lexer": "ipython3",
   "version": "3.12.10"
  }
 },
 "nbformat": 4,
 "nbformat_minor": 5
}
